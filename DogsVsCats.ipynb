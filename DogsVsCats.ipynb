{
 "cells": [
  {
   "cell_type": "markdown",
   "metadata": {},
   "source": [
    "# Dogs vs Cats Dataset"
   ]
  },
  {
   "cell_type": "markdown",
   "metadata": {},
   "source": [
    "One of the most basic level computer vision application is this Dogs vs Cats Datset. We are going to go through each of the titbit and prepare our own model to fetch out a good result. Lets start!"
   ]
  },
  {
   "cell_type": "markdown",
   "metadata": {},
   "source": [
    "I love importing all the necessary packages in the first cell, so don't be scared by seeing so many imports, its just my habit of doing it."
   ]
  },
  {
   "cell_type": "code",
   "execution_count": 1,
   "metadata": {},
   "outputs": [],
   "source": [
    "#Importing the necessary packages\n",
    "\n",
    "import tensorflow as tf\n",
    "from tensorflow.keras.models import Sequential\n",
    "from tensorflow.keras.layers import Conv2D, MaxPooling2D , Flatten , Dense, BatchNormalization, Dropout\n",
    "from tensorflow.keras.preprocessing.image import ImageDataGenerator\n",
    "\n",
    "\n",
    "import numpy as np\n",
    "import pandas as pd\n",
    "import matplotlib.pyplot as plt\n",
    "import os, shutil"
   ]
  },
  {
   "cell_type": "markdown",
   "metadata": {},
   "source": [
    "With all the packages imported lets start with the project."
   ]
  },
  {
   "cell_type": "markdown",
   "metadata": {},
   "source": [
    "## Step 1: Importing the dataset"
   ]
  },
  {
   "cell_type": "markdown",
   "metadata": {},
   "source": [
    "This dataset is unique since it bears normal images of cats and dogs in JPG format.\n",
    "The training examples are present in the train directory. Each image is named with the class(cat or dog) followed by a '.' then an integer and then a .jpg extension. The training set consists of 25000 images.\n",
    "We are going to keep aside 5000 images for evaluation. We are going to take 2500 images of dogs and cats each for validation set. \n",
    "\n",
    "The test examples are present in the test1 directory."
   ]
  },
  {
   "cell_type": "markdown",
   "metadata": {},
   "source": [
    "We are going to first separate out the directories for training and validation and also separate them with respect to their classes."
   ]
  },
  {
   "cell_type": "code",
   "execution_count": 5,
   "metadata": {},
   "outputs": [],
   "source": [
    "#Setting the base directory\n",
    "\n",
    "base_dir = 'D:/Deep_Learning/DogsvsCats/' #setting the path of the base directory\n",
    "\n",
    "train_dir = os.path.join(base_dir , 'train') #setting the path of the train directory\n",
    "\n",
    "#Creating the validation direction\n",
    "val_dir = os.path.join(base_dir , 'val') #setting the path \n",
    "os.mkdir(val_dir) # making the directory\n",
    "\n",
    "test_dir = os.path.join(base_dir , 'test1') #setting the path of the test directory\n",
    "\n",
    "#Creating dogs directory of the training data\n",
    "train_dogs = os.path.join(train_dir , 'dogs') #setting path \n",
    "os.mkdir(train_dogs) # making the directory\n",
    "\n",
    "#Creating cats directory of the training data\n",
    "train_cats = os.path.join(train_dir , 'cats') #setting path\n",
    "os.mkdir(train_cats) #making the directory\n",
    "\n",
    "#Creating dogs directory of the validation data\n",
    "val_dogs = os.path.join(val_dir , 'dogs') #setting path\n",
    "os.mkdir(val_dogs) #making directory\n",
    "\n",
    "#Creating cats directory of validation data\n",
    "val_cats = os.path.join(val_dir , 'cats') #setting path\n",
    "os.mkdir(val_cats) #making directory"
   ]
  },
  {
   "cell_type": "markdown",
   "metadata": {},
   "source": [
    "Now we are going to separate out the cats and dogs of the dataset and then split into validation set."
   ]
  },
  {
   "cell_type": "code",
   "execution_count": 28,
   "metadata": {},
   "outputs": [],
   "source": [
    "#Copying the cats images into separate folder\n",
    "fnames = ['cat.{}.jpg'.format(i) for i in range(10000)]\n",
    "\n",
    "for fname in fnames:\n",
    "    src = os.path.join(train_dir , fname)\n",
    "    dst = os.path.join(train_cats , fname)\n",
    "    shutil.copy(src , dst)"
   ]
  },
  {
   "cell_type": "code",
   "execution_count": 29,
   "metadata": {},
   "outputs": [],
   "source": [
    "#Copy the images of dogs into separate folder\n",
    "fnames = ['dog.{}.jpg'.format(i) for i in range(10000)]\n",
    "\n",
    "for fname in fnames:\n",
    "    src = os.path.join(train_dir , fname)\n",
    "    dst = os.path.join(train_dogs , fname)\n",
    "    shutil.copy(src , dst)"
   ]
  },
  {
   "cell_type": "markdown",
   "metadata": {},
   "source": [
    "We have split the data based on the clases. Now we split for validation.\n",
    "\n",
    "I have decided on choosing 2500 cat images and 2500 dog images for validation. Lets do that now!"
   ]
  },
  {
   "cell_type": "code",
   "execution_count": 30,
   "metadata": {},
   "outputs": [],
   "source": [
    "d_fnames = ['dog.{}.jpg'.format(i) for i in range(10000,12500)]\n",
    "c_fnames = ['cat.{}.jpg'.format(i) for i in range(10000,12500)]\n",
    "\n",
    "for d_fname in d_fnames :\n",
    "    d_src = os.path.join(train_dir , d_fname)\n",
    "    d_dst = os.path.join(val_dogs , d_fname)\n",
    "    shutil.copy(d_src , d_dst)\n",
    "for c_fname in c_fnames:    \n",
    "    c_src = os.path.join(train_dir , c_fname)\n",
    "    c_dst = os.path.join(val_cats , c_fname)\n",
    "    shutil.copy(c_src , c_dst)"
   ]
  },
  {
   "cell_type": "markdown",
   "metadata": {},
   "source": [
    "Everything is sorted with every directory resembling its own data.\n",
    "\n",
    "Now its time to process the images."
   ]
  },
  {
   "cell_type": "markdown",
   "metadata": {},
   "source": [
    "## Step 2: Data Processing"
   ]
  },
  {
   "cell_type": "markdown",
   "metadata": {},
   "source": [
    "The data processing for this dataset is very intense, but with the help of the Keras framework it would be handled with ease.\n",
    "\n",
    "But lets list out the details we want to clarify.\n",
    "\n",
    "1. Convert the images into floating tensors\n",
    "2. Flatten them by dividing by 255\n",
    "\n",
    "We are going to utilize the <code>keras.preprocessing.image</code> package for this purpose."
   ]
  },
  {
   "cell_type": "code",
   "execution_count": 6,
   "metadata": {},
   "outputs": [
    {
     "name": "stdout",
     "output_type": "stream",
     "text": [
      "Found 20000 images belonging to 2 classes.\n",
      "Found 5000 images belonging to 2 classes.\n"
     ]
    }
   ],
   "source": [
    "base_dir = 'D:/Deep_Learning/DogsvsCats/'\n",
    "train_dir = os.path.join(base_dir , 'train')\n",
    "val_dir = os.path.join(base_dir , 'val')\n",
    "\n",
    "train_gen = ImageDataGenerator(rescale = 1./255)\n",
    "val_gen = ImageDataGenerator(rescale = 1./255)\n",
    "\n",
    "train_generator = train_gen.flow_from_directory(train_dir,\n",
    "                                               target_size = (150 , 150),\n",
    "                                               batch_size = 20,\n",
    "                                               class_mode = 'binary')\n",
    "validation_generator = val_gen.flow_from_directory(val_dir,\n",
    "                                                  target_size = (150 , 150),\n",
    "                                                  batch_size = 20,\n",
    "                                                  class_mode = 'binary')"
   ]
  },
  {
   "cell_type": "markdown",
   "metadata": {},
   "source": [
    "Phew. Just one step and everything is sorted.\n",
    "\n",
    "Lets move on and model our convnet."
   ]
  },
  {
   "cell_type": "code",
   "execution_count": 7,
   "metadata": {},
   "outputs": [],
   "source": [
    "#defining the model function\n",
    "def get_model(rate):\n",
    "    \n",
    "    model = Sequential([\n",
    "        Conv2D(32 , (3 , 3) , activation = 'relu' , input_shape = (150,150,3)),\n",
    "        MaxPooling2D((2 , 2)),\n",
    "        Conv2D(64 , (3 , 3) , activation = 'relu'),\n",
    "        MaxPooling2D((2 , 2)),\n",
    "        Conv2D(128 , (3 , 3) , activation = 'relu'),\n",
    "        MaxPooling2D((2 , 2)),\n",
    "        Conv2D(128 , (3 , 3) , activation = 'relu'),\n",
    "        MaxPooling2D((2 , 2)),\n",
    "        Flatten(),\n",
    "        BatchNormalization(),\n",
    "        Dropout(rate),\n",
    "        Dense(512 , activation = 'relu'),\n",
    "        BatchNormalization(),\n",
    "        Dropout(rate),\n",
    "        Dense(1 , activation = 'sigmoid')\n",
    "    ])\n",
    "    \n",
    "    return model"
   ]
  },
  {
   "cell_type": "code",
   "execution_count": 12,
   "metadata": {},
   "outputs": [
    {
     "name": "stdout",
     "output_type": "stream",
     "text": [
      "Model: \"sequential\"\n",
      "_________________________________________________________________\n",
      "Layer (type)                 Output Shape              Param #   \n",
      "=================================================================\n",
      "conv2d_8 (Conv2D)            (None, 148, 148, 32)      896       \n",
      "_________________________________________________________________\n",
      "max_pooling2d_8 (MaxPooling2 (None, 74, 74, 32)        0         \n",
      "_________________________________________________________________\n",
      "conv2d_9 (Conv2D)            (None, 72, 72, 64)        18496     \n",
      "_________________________________________________________________\n",
      "max_pooling2d_9 (MaxPooling2 (None, 36, 36, 64)        0         \n",
      "_________________________________________________________________\n",
      "conv2d_10 (Conv2D)           (None, 34, 34, 128)       73856     \n",
      "_________________________________________________________________\n",
      "max_pooling2d_10 (MaxPooling (None, 17, 17, 128)       0         \n",
      "_________________________________________________________________\n",
      "conv2d_11 (Conv2D)           (None, 15, 15, 128)       147584    \n",
      "_________________________________________________________________\n",
      "max_pooling2d_11 (MaxPooling (None, 7, 7, 128)         0         \n",
      "_________________________________________________________________\n",
      "flatten_2 (Flatten)          (None, 6272)              0         \n",
      "_________________________________________________________________\n",
      "batch_normalization_1 (Batch (None, 6272)              25088     \n",
      "_________________________________________________________________\n",
      "dropout (Dropout)            (None, 6272)              0         \n",
      "_________________________________________________________________\n",
      "dense (Dense)                (None, 512)               3211776   \n",
      "_________________________________________________________________\n",
      "batch_normalization_2 (Batch (None, 512)               2048      \n",
      "_________________________________________________________________\n",
      "dropout_1 (Dropout)          (None, 512)               0         \n",
      "_________________________________________________________________\n",
      "dense_1 (Dense)              (None, 1)                 513       \n",
      "=================================================================\n",
      "Total params: 3,480,257\n",
      "Trainable params: 3,466,689\n",
      "Non-trainable params: 13,568\n",
      "_________________________________________________________________\n"
     ]
    }
   ],
   "source": [
    "model = get_model(0.5) #setting the model\n",
    "model.summary() #setting the model summary"
   ]
  },
  {
   "cell_type": "markdown",
   "metadata": {},
   "source": [
    "Now lets fit the model.\n",
    "\n",
    "Since we have a generator, we are going to use fit_generator."
   ]
  },
  {
   "cell_type": "code",
   "execution_count": 13,
   "metadata": {},
   "outputs": [],
   "source": [
    "model.compile(optimizer = 'rmsprop',\n",
    "             loss = 'binary_crossentropy',\n",
    "             metrics = ['accuracy'])"
   ]
  },
  {
   "cell_type": "code",
   "execution_count": 17,
   "metadata": {},
   "outputs": [
    {
     "name": "stdout",
     "output_type": "stream",
     "text": [
      "Epoch 1/30\n",
      "100/100 [==============================] - 113s 1s/step - loss: 1.0224 - accuracy: 0.5675 - val_loss: 1.1553 - val_accuracy: 0.5060\n",
      "Epoch 2/30\n",
      "100/100 [==============================] - 70s 701ms/step - loss: 0.8291 - accuracy: 0.5855 - val_loss: 1.6769 - val_accuracy: 0.5160\n",
      "Epoch 3/30\n",
      "100/100 [==============================] - 63s 634ms/step - loss: 0.7720 - accuracy: 0.5870 - val_loss: 0.7199 - val_accuracy: 0.6010\n",
      "Epoch 4/30\n",
      "100/100 [==============================] - 61s 605ms/step - loss: 0.7178 - accuracy: 0.6115 - val_loss: 1.2618 - val_accuracy: 0.5010\n",
      "Epoch 5/30\n",
      "100/100 [==============================] - 57s 567ms/step - loss: 0.6969 - accuracy: 0.6255 - val_loss: 0.8530 - val_accuracy: 0.6040\n",
      "Epoch 6/30\n",
      "100/100 [==============================] - 56s 557ms/step - loss: 0.6538 - accuracy: 0.6375 - val_loss: 0.7080 - val_accuracy: 0.6130\n",
      "Epoch 7/30\n",
      "100/100 [==============================] - 49s 489ms/step - loss: 0.6491 - accuracy: 0.6495 - val_loss: 0.7863 - val_accuracy: 0.5920\n",
      "Epoch 8/30\n",
      "100/100 [==============================] - 52s 519ms/step - loss: 0.6132 - accuracy: 0.6735 - val_loss: 0.6091 - val_accuracy: 0.6510\n",
      "Epoch 9/30\n",
      "100/100 [==============================] - 51s 505ms/step - loss: 0.6063 - accuracy: 0.6875 - val_loss: 0.7067 - val_accuracy: 0.5870\n",
      "Epoch 10/30\n",
      "100/100 [==============================] - 55s 548ms/step - loss: 0.5742 - accuracy: 0.7015 - val_loss: 0.5743 - val_accuracy: 0.7000\n",
      "Epoch 11/30\n",
      "100/100 [==============================] - 13s 128ms/step - loss: 0.5411 - accuracy: 0.7280 - val_loss: 0.6549 - val_accuracy: 0.6540\n",
      "Epoch 12/30\n",
      "100/100 [==============================] - 13s 131ms/step - loss: 0.5311 - accuracy: 0.7380 - val_loss: 0.6027 - val_accuracy: 0.6850\n",
      "Epoch 13/30\n",
      "100/100 [==============================] - 15s 152ms/step - loss: 0.5468 - accuracy: 0.7225 - val_loss: 0.5183 - val_accuracy: 0.7450\n",
      "Epoch 14/30\n",
      "100/100 [==============================] - 15s 154ms/step - loss: 0.5051 - accuracy: 0.7560 - val_loss: 0.6001 - val_accuracy: 0.6810\n",
      "Epoch 15/30\n",
      "100/100 [==============================] - 13s 134ms/step - loss: 0.4981 - accuracy: 0.7615 - val_loss: 0.4829 - val_accuracy: 0.7760\n",
      "Epoch 16/30\n",
      "100/100 [==============================] - 14s 137ms/step - loss: 0.5153 - accuracy: 0.7545 - val_loss: 0.4992 - val_accuracy: 0.7620\n",
      "Epoch 17/30\n",
      "100/100 [==============================] - 14s 138ms/step - loss: 0.5018 - accuracy: 0.7620 - val_loss: 0.5098 - val_accuracy: 0.7320\n",
      "Epoch 18/30\n",
      "100/100 [==============================] - 14s 137ms/step - loss: 0.4673 - accuracy: 0.7790 - val_loss: 0.6633 - val_accuracy: 0.7120\n",
      "Epoch 19/30\n",
      "100/100 [==============================] - 14s 141ms/step - loss: 0.4715 - accuracy: 0.7795 - val_loss: 0.4272 - val_accuracy: 0.8060\n",
      "Epoch 20/30\n",
      "100/100 [==============================] - 14s 141ms/step - loss: 0.4470 - accuracy: 0.7950 - val_loss: 0.7880 - val_accuracy: 0.6400\n",
      "Epoch 21/30\n",
      "100/100 [==============================] - 13s 126ms/step - loss: 0.4437 - accuracy: 0.8025 - val_loss: 0.4676 - val_accuracy: 0.7820\n",
      "Epoch 22/30\n",
      "100/100 [==============================] - 13s 126ms/step - loss: 0.4541 - accuracy: 0.7900 - val_loss: 0.4598 - val_accuracy: 0.8040\n",
      "Epoch 23/30\n",
      "100/100 [==============================] - 13s 127ms/step - loss: 0.4421 - accuracy: 0.8040 - val_loss: 0.4668 - val_accuracy: 0.7930\n",
      "Epoch 24/30\n",
      "100/100 [==============================] - 13s 126ms/step - loss: 0.4569 - accuracy: 0.7865 - val_loss: 0.4384 - val_accuracy: 0.8060\n",
      "Epoch 25/30\n",
      "100/100 [==============================] - 13s 127ms/step - loss: 0.4307 - accuracy: 0.8170 - val_loss: 0.4665 - val_accuracy: 0.7830\n",
      "Epoch 26/30\n",
      "100/100 [==============================] - 13s 126ms/step - loss: 0.4312 - accuracy: 0.8045 - val_loss: 0.5439 - val_accuracy: 0.7390\n",
      "Epoch 27/30\n",
      "100/100 [==============================] - 13s 127ms/step - loss: 0.4618 - accuracy: 0.7905 - val_loss: 0.5582 - val_accuracy: 0.7280\n",
      "Epoch 28/30\n",
      "100/100 [==============================] - 13s 128ms/step - loss: 0.4338 - accuracy: 0.7980 - val_loss: 0.5086 - val_accuracy: 0.7710\n",
      "Epoch 29/30\n",
      "100/100 [==============================] - 13s 128ms/step - loss: 0.4339 - accuracy: 0.8055 - val_loss: 0.5032 - val_accuracy: 0.7700\n",
      "Epoch 30/30\n",
      "100/100 [==============================] - 13s 128ms/step - loss: 0.4190 - accuracy: 0.8190 - val_loss: 0.5027 - val_accuracy: 0.7720\n"
     ]
    }
   ],
   "source": [
    "history = model.fit_generator(train_generator,\n",
    "                             steps_per_epoch = 100,\n",
    "                             epochs = 30,\n",
    "                             validation_data = validation_generator,\n",
    "                             validation_steps = 50)"
   ]
  },
  {
   "cell_type": "markdown",
   "metadata": {},
   "source": [
    "Lets plot the learning curves to get a better preview!"
   ]
  },
  {
   "cell_type": "code",
   "execution_count": 21,
   "metadata": {},
   "outputs": [
    {
     "data": {
      "text/html": [
       "<div>\n",
       "<style scoped>\n",
       "    .dataframe tbody tr th:only-of-type {\n",
       "        vertical-align: middle;\n",
       "    }\n",
       "\n",
       "    .dataframe tbody tr th {\n",
       "        vertical-align: top;\n",
       "    }\n",
       "\n",
       "    .dataframe thead th {\n",
       "        text-align: right;\n",
       "    }\n",
       "</style>\n",
       "<table border=\"1\" class=\"dataframe\">\n",
       "  <thead>\n",
       "    <tr style=\"text-align: right;\">\n",
       "      <th></th>\n",
       "      <th>loss</th>\n",
       "      <th>accuracy</th>\n",
       "      <th>val_loss</th>\n",
       "      <th>val_accuracy</th>\n",
       "    </tr>\n",
       "  </thead>\n",
       "  <tbody>\n",
       "    <tr>\n",
       "      <td>0</td>\n",
       "      <td>1.022355</td>\n",
       "      <td>0.5675</td>\n",
       "      <td>1.155344</td>\n",
       "      <td>0.506</td>\n",
       "    </tr>\n",
       "    <tr>\n",
       "      <td>1</td>\n",
       "      <td>0.829056</td>\n",
       "      <td>0.5855</td>\n",
       "      <td>1.676879</td>\n",
       "      <td>0.516</td>\n",
       "    </tr>\n",
       "    <tr>\n",
       "      <td>2</td>\n",
       "      <td>0.771997</td>\n",
       "      <td>0.5870</td>\n",
       "      <td>0.719869</td>\n",
       "      <td>0.601</td>\n",
       "    </tr>\n",
       "    <tr>\n",
       "      <td>3</td>\n",
       "      <td>0.717762</td>\n",
       "      <td>0.6115</td>\n",
       "      <td>1.261790</td>\n",
       "      <td>0.501</td>\n",
       "    </tr>\n",
       "    <tr>\n",
       "      <td>4</td>\n",
       "      <td>0.696872</td>\n",
       "      <td>0.6255</td>\n",
       "      <td>0.853000</td>\n",
       "      <td>0.604</td>\n",
       "    </tr>\n",
       "  </tbody>\n",
       "</table>\n",
       "</div>"
      ],
      "text/plain": [
       "       loss  accuracy  val_loss  val_accuracy\n",
       "0  1.022355    0.5675  1.155344         0.506\n",
       "1  0.829056    0.5855  1.676879         0.516\n",
       "2  0.771997    0.5870  0.719869         0.601\n",
       "3  0.717762    0.6115  1.261790         0.501\n",
       "4  0.696872    0.6255  0.853000         0.604"
      ]
     },
     "execution_count": 21,
     "metadata": {},
     "output_type": "execute_result"
    }
   ],
   "source": [
    "df = pd.DataFrame(history.history) # creating a dataset of loss and accuracy\n",
    "df.head()"
   ]
  },
  {
   "cell_type": "code",
   "execution_count": 23,
   "metadata": {},
   "outputs": [
    {
     "data": {
      "image/png": "[encoded data removed]",
      "text/plain": [
       "<Figure size 432x288 with 1 Axes>"
      ]
     },
     "metadata": {
      "needs_background": "light"
     },
     "output_type": "display_data"
    }
   ],
   "source": [
    "#Plotting the loss curve\n",
    "\n",
    "loss = df[\"loss\"]\n",
    "val_loss = df[\"val_loss\"]\n",
    "\n",
    "epochs = range(1 , len(loss)+1)\n",
    "\n",
    "plt.plot(epochs , loss , 'b' , label = 'Training Loss')\n",
    "plt.plot(epochs , val_loss , 'bo' , label = 'Validation Loss')\n",
    "plt.legend()\n",
    "plt.show()"
   ]
  },
  {
   "cell_type": "code",
   "execution_count": 24,
   "metadata": {},
   "outputs": [
    {
     "data": {
      "image/png": "[encoded data removed]",
      "text/plain": [
       "<Figure size 432x288 with 1 Axes>"
      ]
     },
     "metadata": {
      "needs_background": "light"
     },
     "output_type": "display_data"
    }
   ],
   "source": [
    "#Plotting the accuracy curve\n",
    "\n",
    "acc = df[\"accuracy\"]\n",
    "val_acc = df[\"val_accuracy\"]\n",
    "\n",
    "epochs = range(1 , len(loss)+1)\n",
    "\n",
    "plt.plot(epochs , acc , 'b' , label = 'Training Accuracy')\n",
    "plt.plot(epochs , val_acc , 'bo' , label = 'Validation Accuracy')\n",
    "plt.legend()\n",
    "plt.show()"
   ]
  },
  {
   "cell_type": "markdown",
   "metadata": {},
   "source": [
    "The overfitting is somewhat less due to the dropout and batch normalization layers.\n",
    "\n",
    "To make the model more efficient, lets try data augmentation.\n",
    "\n",
    "The <code>ImageDataGenerator</code> will help in doing this. "
   ]
  },
  {
   "cell_type": "code",
   "execution_count": 35,
   "metadata": {},
   "outputs": [
    {
     "name": "stdout",
     "output_type": "stream",
     "text": [
      "Found 20000 images belonging to 2 classes.\n",
      "Found 5000 images belonging to 2 classes.\n"
     ]
    }
   ],
   "source": [
    "new_train_datagen = ImageDataGenerator(rescale = 1./255 , \n",
    "                                      rotation_range = 45 , \n",
    "                                      width_shift_range = 0.2,\n",
    "                                      height_shift_range = 0.2, \n",
    "                                      shear_range = 0.2, \n",
    "                                      zoom_range = 0.2,\n",
    "                                      horizontal_flip = True)\n",
    "\n",
    "new_val_datagen = ImageDataGenerator(rescale = 1./255) #we dont augment images for validation sets\n",
    "\n",
    "train_generator = new_train_datagen.flow_from_directory(train_dir,\n",
    "                                               target_size = (150 , 150),\n",
    "                                               batch_size = 32,\n",
    "                                               class_mode = 'binary')\n",
    "validation_generator = new_val_datagen.flow_from_directory(val_dir,\n",
    "                                                  target_size = (150 , 150),\n",
    "                                                  batch_size = 32,\n",
    "                                                  class_mode = 'binary')"
   ]
  },
  {
   "cell_type": "markdown",
   "metadata": {},
   "source": [
    "Lets refit and train the model"
   ]
  },
  {
   "cell_type": "code",
   "execution_count": 36,
   "metadata": {},
   "outputs": [
    {
     "name": "stdout",
     "output_type": "stream",
     "text": [
      "Model: \"sequential_3\"\n",
      "_________________________________________________________________\n",
      "Layer (type)                 Output Shape              Param #   \n",
      "=================================================================\n",
      "conv2d_20 (Conv2D)           (None, 148, 148, 32)      896       \n",
      "_________________________________________________________________\n",
      "max_pooling2d_20 (MaxPooling (None, 74, 74, 32)        0         \n",
      "_________________________________________________________________\n",
      "conv2d_21 (Conv2D)           (None, 72, 72, 64)        18496     \n",
      "_________________________________________________________________\n",
      "max_pooling2d_21 (MaxPooling (None, 36, 36, 64)        0         \n",
      "_________________________________________________________________\n",
      "conv2d_22 (Conv2D)           (None, 34, 34, 128)       73856     \n",
      "_________________________________________________________________\n",
      "max_pooling2d_22 (MaxPooling (None, 17, 17, 128)       0         \n",
      "_________________________________________________________________\n",
      "conv2d_23 (Conv2D)           (None, 15, 15, 128)       147584    \n",
      "_________________________________________________________________\n",
      "max_pooling2d_23 (MaxPooling (None, 7, 7, 128)         0         \n",
      "_________________________________________________________________\n",
      "flatten_5 (Flatten)          (None, 6272)              0         \n",
      "_________________________________________________________________\n",
      "batch_normalization_7 (Batch (None, 6272)              25088     \n",
      "_________________________________________________________________\n",
      "dropout_6 (Dropout)          (None, 6272)              0         \n",
      "_________________________________________________________________\n",
      "dense_6 (Dense)              (None, 512)               3211776   \n",
      "_________________________________________________________________\n",
      "batch_normalization_8 (Batch (None, 512)               2048      \n",
      "_________________________________________________________________\n",
      "dropout_7 (Dropout)          (None, 512)               0         \n",
      "_________________________________________________________________\n",
      "dense_7 (Dense)              (None, 1)                 513       \n",
      "=================================================================\n",
      "Total params: 3,480,257\n",
      "Trainable params: 3,466,689\n",
      "Non-trainable params: 13,568\n",
      "_________________________________________________________________\n"
     ]
    }
   ],
   "source": [
    "model = get_model(0.5)\n",
    "\n",
    "model.summary()"
   ]
  },
  {
   "cell_type": "code",
   "execution_count": 37,
   "metadata": {},
   "outputs": [],
   "source": [
    "model.compile(optimizer = 'rmsprop',\n",
    "             loss = 'binary_crossentropy',\n",
    "             metrics = ['accuracy'])"
   ]
  },
  {
   "cell_type": "code",
   "execution_count": 38,
   "metadata": {
    "scrolled": true
   },
   "outputs": [
    {
     "name": "stdout",
     "output_type": "stream",
     "text": [
      "Epoch 1/100\n",
      "100/100 [==============================] - 39s 393ms/step - loss: 1.0340 - accuracy: 0.5494 - val_loss: 1.7930 - val_accuracy: 0.4963\n",
      "Epoch 2/100\n",
      "100/100 [==============================] - 23s 231ms/step - loss: 0.8492 - accuracy: 0.5394 - val_loss: 1.0123 - val_accuracy: 0.4963\n",
      "Epoch 3/100\n",
      "100/100 [==============================] - 25s 247ms/step - loss: 0.7592 - accuracy: 0.5541 - val_loss: 0.7069 - val_accuracy: 0.6131\n",
      "Epoch 4/100\n",
      "100/100 [==============================] - 26s 260ms/step - loss: 0.7298 - accuracy: 0.5888 - val_loss: 0.6930 - val_accuracy: 0.6481\n",
      "Epoch 5/100\n",
      "100/100 [==============================] - 24s 239ms/step - loss: 0.6929 - accuracy: 0.6009 - val_loss: 0.6604 - val_accuracy: 0.6162\n",
      "Epoch 6/100\n",
      "100/100 [==============================] - 24s 239ms/step - loss: 0.6650 - accuracy: 0.6247 - val_loss: 0.7098 - val_accuracy: 0.5900\n",
      "Epoch 7/100\n",
      "100/100 [==============================] - 24s 239ms/step - loss: 0.6687 - accuracy: 0.6197 - val_loss: 0.6146 - val_accuracy: 0.6700\n",
      "Epoch 8/100\n",
      "100/100 [==============================] - 24s 240ms/step - loss: 0.6417 - accuracy: 0.6406 - val_loss: 0.6122 - val_accuracy: 0.6956\n",
      "Epoch 9/100\n",
      "100/100 [==============================] - 24s 244ms/step - loss: 0.6259 - accuracy: 0.6584 - val_loss: 0.5892 - val_accuracy: 0.6819\n",
      "Epoch 10/100\n",
      "100/100 [==============================] - 24s 243ms/step - loss: 0.6178 - accuracy: 0.6666 - val_loss: 0.6341 - val_accuracy: 0.6700\n",
      "Epoch 11/100\n",
      "100/100 [==============================] - 25s 246ms/step - loss: 0.6014 - accuracy: 0.6766 - val_loss: 0.5913 - val_accuracy: 0.6888\n",
      "Epoch 12/100\n",
      "100/100 [==============================] - 25s 252ms/step - loss: 0.6201 - accuracy: 0.6609 - val_loss: 0.5316 - val_accuracy: 0.7394\n",
      "Epoch 13/100\n",
      "100/100 [==============================] - 27s 269ms/step - loss: 0.5975 - accuracy: 0.6903 - val_loss: 1.3831 - val_accuracy: 0.5406\n",
      "Epoch 14/100\n",
      "100/100 [==============================] - 26s 255ms/step - loss: 0.5907 - accuracy: 0.6888 - val_loss: 0.9560 - val_accuracy: 0.5663\n",
      "Epoch 15/100\n",
      "100/100 [==============================] - 29s 293ms/step - loss: 0.5956 - accuracy: 0.6831 - val_loss: 0.5248 - val_accuracy: 0.7381\n",
      "Epoch 16/100\n",
      "100/100 [==============================] - 26s 261ms/step - loss: 0.5748 - accuracy: 0.7025 - val_loss: 0.7618 - val_accuracy: 0.6131\n",
      "Epoch 17/100\n",
      "100/100 [==============================] - 26s 262ms/step - loss: 0.5611 - accuracy: 0.7188 - val_loss: 0.6582 - val_accuracy: 0.6631\n",
      "Epoch 18/100\n",
      "100/100 [==============================] - 26s 263ms/step - loss: 0.5589 - accuracy: 0.7178 - val_loss: 0.4667 - val_accuracy: 0.7756\n",
      "Epoch 19/100\n",
      "100/100 [==============================] - 26s 258ms/step - loss: 0.5461 - accuracy: 0.7159 - val_loss: 0.6403 - val_accuracy: 0.6975\n",
      "Epoch 20/100\n",
      "100/100 [==============================] - 26s 259ms/step - loss: 0.5639 - accuracy: 0.6997 - val_loss: 0.5628 - val_accuracy: 0.7175\n",
      "Epoch 21/100\n",
      "100/100 [==============================] - 26s 255ms/step - loss: 0.5651 - accuracy: 0.7225 - val_loss: 0.7088 - val_accuracy: 0.6687\n",
      "Epoch 22/100\n",
      "100/100 [==============================] - 25s 254ms/step - loss: 0.5381 - accuracy: 0.7269 - val_loss: 0.4773 - val_accuracy: 0.7669\n",
      "Epoch 23/100\n",
      "100/100 [==============================] - 25s 254ms/step - loss: 0.5334 - accuracy: 0.7334 - val_loss: 0.5489 - val_accuracy: 0.7081\n",
      "Epoch 24/100\n",
      "100/100 [==============================] - 26s 256ms/step - loss: 0.5174 - accuracy: 0.7462 - val_loss: 0.8198 - val_accuracy: 0.6637\n",
      "Epoch 25/100\n",
      "100/100 [==============================] - 26s 258ms/step - loss: 0.5191 - accuracy: 0.7475 - val_loss: 0.4886 - val_accuracy: 0.7706\n",
      "Epoch 26/100\n",
      "100/100 [==============================] - 26s 264ms/step - loss: 0.5178 - accuracy: 0.7462 - val_loss: 0.4899 - val_accuracy: 0.7675\n",
      "Epoch 27/100\n",
      "100/100 [==============================] - 26s 263ms/step - loss: 0.5369 - accuracy: 0.7406 - val_loss: 0.4559 - val_accuracy: 0.8006\n",
      "Epoch 28/100\n",
      "100/100 [==============================] - 26s 264ms/step - loss: 0.4971 - accuracy: 0.7588 - val_loss: 0.4589 - val_accuracy: 0.7969\n",
      "Epoch 29/100\n",
      "100/100 [==============================] - 26s 264ms/step - loss: 0.5039 - accuracy: 0.7556 - val_loss: 0.3979 - val_accuracy: 0.8375\n",
      "Epoch 30/100\n",
      "100/100 [==============================] - 26s 264ms/step - loss: 0.5134 - accuracy: 0.7550 - val_loss: 0.4329 - val_accuracy: 0.8144\n",
      "Epoch 31/100\n",
      "100/100 [==============================] - 27s 265ms/step - loss: 0.4982 - accuracy: 0.7584 - val_loss: 0.8510 - val_accuracy: 0.6313\n",
      "Epoch 32/100\n",
      "100/100 [==============================] - 26s 263ms/step - loss: 0.5051 - accuracy: 0.7591 - val_loss: 0.4782 - val_accuracy: 0.7531\n",
      "Epoch 33/100\n",
      "100/100 [==============================] - 26s 262ms/step - loss: 0.4904 - accuracy: 0.7609 - val_loss: 0.4477 - val_accuracy: 0.8056\n",
      "Epoch 34/100\n",
      "100/100 [==============================] - 26s 263ms/step - loss: 0.4805 - accuracy: 0.7697 - val_loss: 0.4184 - val_accuracy: 0.8169\n",
      "Epoch 35/100\n",
      "100/100 [==============================] - 26s 258ms/step - loss: 0.4673 - accuracy: 0.7791 - val_loss: 0.4519 - val_accuracy: 0.7544\n",
      "Epoch 36/100\n",
      "100/100 [==============================] - 26s 263ms/step - loss: 0.4757 - accuracy: 0.7700 - val_loss: 0.4831 - val_accuracy: 0.7656\n",
      "Epoch 37/100\n",
      "100/100 [==============================] - 26s 264ms/step - loss: 0.4676 - accuracy: 0.7797 - val_loss: 0.8129 - val_accuracy: 0.6606\n",
      "Epoch 38/100\n",
      "100/100 [==============================] - 26s 265ms/step - loss: 0.4551 - accuracy: 0.7909 - val_loss: 1.5311 - val_accuracy: 0.5619\n",
      "Epoch 39/100\n",
      "100/100 [==============================] - 26s 260ms/step - loss: 0.4497 - accuracy: 0.7903 - val_loss: 0.4899 - val_accuracy: 0.7881\n",
      "Epoch 40/100\n",
      "100/100 [==============================] - 26s 260ms/step - loss: 0.4439 - accuracy: 0.7956 - val_loss: 1.4421 - val_accuracy: 0.6350\n",
      "Epoch 41/100\n",
      "100/100 [==============================] - 26s 262ms/step - loss: 0.4760 - accuracy: 0.7688 - val_loss: 0.4177 - val_accuracy: 0.8169\n",
      "Epoch 42/100\n",
      "100/100 [==============================] - 26s 261ms/step - loss: 0.4436 - accuracy: 0.7941 - val_loss: 0.3680 - val_accuracy: 0.8487\n",
      "Epoch 43/100\n",
      "100/100 [==============================] - 26s 259ms/step - loss: 0.4428 - accuracy: 0.7925 - val_loss: 0.3958 - val_accuracy: 0.8112\n",
      "Epoch 44/100\n",
      "100/100 [==============================] - 27s 275ms/step - loss: 0.4334 - accuracy: 0.8091 - val_loss: 0.3886 - val_accuracy: 0.8475\n",
      "Epoch 45/100\n",
      "100/100 [==============================] - 27s 266ms/step - loss: 0.4508 - accuracy: 0.7934 - val_loss: 0.3885 - val_accuracy: 0.8487\n",
      "Epoch 46/100\n",
      "100/100 [==============================] - 26s 264ms/step - loss: 0.4314 - accuracy: 0.8025 - val_loss: 0.3360 - val_accuracy: 0.8562\n",
      "Epoch 47/100\n",
      "100/100 [==============================] - 26s 264ms/step - loss: 0.4350 - accuracy: 0.8041 - val_loss: 0.3368 - val_accuracy: 0.8644\n",
      "Epoch 48/100\n",
      "100/100 [==============================] - 27s 266ms/step - loss: 0.4346 - accuracy: 0.7997 - val_loss: 0.6257 - val_accuracy: 0.7275\n",
      "Epoch 49/100\n",
      "100/100 [==============================] - 27s 268ms/step - loss: 0.4248 - accuracy: 0.8091 - val_loss: 0.3458 - val_accuracy: 0.8625\n",
      "Epoch 50/100\n",
      "100/100 [==============================] - 26s 264ms/step - loss: 0.4107 - accuracy: 0.8144 - val_loss: 1.6560 - val_accuracy: 0.5950\n",
      "Epoch 51/100\n",
      "100/100 [==============================] - 27s 265ms/step - loss: 0.4247 - accuracy: 0.8037 - val_loss: 0.5664 - val_accuracy: 0.7563\n",
      "Epoch 52/100\n",
      "100/100 [==============================] - 27s 266ms/step - loss: 0.4176 - accuracy: 0.8116 - val_loss: 0.3721 - val_accuracy: 0.8394\n",
      "Epoch 53/100\n",
      "100/100 [==============================] - 26s 264ms/step - loss: 0.4107 - accuracy: 0.8100 - val_loss: 0.3563 - val_accuracy: 0.8594\n",
      "Epoch 54/100\n",
      "100/100 [==============================] - 26s 265ms/step - loss: 0.4094 - accuracy: 0.8091 - val_loss: 0.4130 - val_accuracy: 0.8438\n",
      "Epoch 55/100\n",
      "100/100 [==============================] - 27s 267ms/step - loss: 0.4010 - accuracy: 0.8194 - val_loss: 0.4798 - val_accuracy: 0.7700\n",
      "Epoch 56/100\n",
      "100/100 [==============================] - 27s 267ms/step - loss: 0.4180 - accuracy: 0.8087 - val_loss: 0.3347 - val_accuracy: 0.8575\n"
     ]
    },
    {
     "name": "stdout",
     "output_type": "stream",
     "text": [
      "Epoch 57/100\n",
      "100/100 [==============================] - 27s 270ms/step - loss: 0.3945 - accuracy: 0.8138 - val_loss: 0.3015 - val_accuracy: 0.8788\n",
      "Epoch 58/100\n",
      "100/100 [==============================] - 27s 266ms/step - loss: 0.4048 - accuracy: 0.8150 - val_loss: 0.3192 - val_accuracy: 0.8731\n",
      "Epoch 59/100\n",
      "100/100 [==============================] - 27s 269ms/step - loss: 0.4045 - accuracy: 0.8112 - val_loss: 0.2833 - val_accuracy: 0.8825\n",
      "Epoch 60/100\n",
      "100/100 [==============================] - 27s 268ms/step - loss: 0.4013 - accuracy: 0.8206 - val_loss: 0.6815 - val_accuracy: 0.7419\n",
      "Epoch 61/100\n",
      "100/100 [==============================] - 27s 269ms/step - loss: 0.4065 - accuracy: 0.8203 - val_loss: 0.4375 - val_accuracy: 0.7912\n",
      "Epoch 62/100\n",
      "100/100 [==============================] - 27s 268ms/step - loss: 0.3705 - accuracy: 0.8400 - val_loss: 0.5227 - val_accuracy: 0.7312\n",
      "Epoch 63/100\n",
      "100/100 [==============================] - 26s 261ms/step - loss: 0.3767 - accuracy: 0.8319 - val_loss: 0.3163 - val_accuracy: 0.8669\n",
      "Epoch 64/100\n",
      "100/100 [==============================] - 26s 256ms/step - loss: 0.3986 - accuracy: 0.8219 - val_loss: 0.3316 - val_accuracy: 0.8725\n",
      "Epoch 65/100\n",
      "100/100 [==============================] - 26s 256ms/step - loss: 0.3641 - accuracy: 0.8422 - val_loss: 1.3697 - val_accuracy: 0.6012\n",
      "Epoch 66/100\n",
      "100/100 [==============================] - 26s 256ms/step - loss: 0.3874 - accuracy: 0.8269 - val_loss: 0.3124 - val_accuracy: 0.8813\n",
      "Epoch 67/100\n",
      "100/100 [==============================] - 26s 258ms/step - loss: 0.4082 - accuracy: 0.8184 - val_loss: 0.4930 - val_accuracy: 0.8000\n",
      "Epoch 68/100\n",
      "100/100 [==============================] - 26s 261ms/step - loss: 0.3798 - accuracy: 0.8250 - val_loss: 0.7288 - val_accuracy: 0.7819\n",
      "Epoch 69/100\n",
      "100/100 [==============================] - 26s 263ms/step - loss: 0.3634 - accuracy: 0.8366 - val_loss: 1.0037 - val_accuracy: 0.6313\n",
      "Epoch 70/100\n",
      "100/100 [==============================] - 26s 264ms/step - loss: 0.3537 - accuracy: 0.8434 - val_loss: 0.3025 - val_accuracy: 0.8838\n",
      "Epoch 71/100\n",
      "100/100 [==============================] - 27s 269ms/step - loss: 0.3548 - accuracy: 0.8431 - val_loss: 0.3140 - val_accuracy: 0.8612\n",
      "Epoch 72/100\n",
      "100/100 [==============================] - 27s 271ms/step - loss: 0.3817 - accuracy: 0.8306 - val_loss: 0.4396 - val_accuracy: 0.8687\n",
      "Epoch 73/100\n",
      "100/100 [==============================] - 27s 270ms/step - loss: 0.3904 - accuracy: 0.8281 - val_loss: 0.2909 - val_accuracy: 0.8950\n",
      "Epoch 74/100\n",
      "100/100 [==============================] - 27s 268ms/step - loss: 0.3847 - accuracy: 0.8281 - val_loss: 1.2149 - val_accuracy: 0.6381\n",
      "Epoch 75/100\n",
      "100/100 [==============================] - 26s 260ms/step - loss: 0.3656 - accuracy: 0.8413 - val_loss: 0.2683 - val_accuracy: 0.8931\n",
      "Epoch 76/100\n",
      "100/100 [==============================] - 26s 257ms/step - loss: 0.3816 - accuracy: 0.8331 - val_loss: 0.3289 - val_accuracy: 0.8794\n",
      "Epoch 77/100\n",
      "100/100 [==============================] - 26s 262ms/step - loss: 0.3620 - accuracy: 0.8366 - val_loss: 0.2749 - val_accuracy: 0.8894\n",
      "Epoch 78/100\n",
      "100/100 [==============================] - 26s 263ms/step - loss: 0.3664 - accuracy: 0.8359 - val_loss: 0.4990 - val_accuracy: 0.7681\n",
      "Epoch 79/100\n",
      "100/100 [==============================] - 26s 263ms/step - loss: 0.3594 - accuracy: 0.8462 - val_loss: 0.4837 - val_accuracy: 0.8431\n",
      "Epoch 80/100\n",
      "100/100 [==============================] - 26s 261ms/step - loss: 0.3937 - accuracy: 0.8150 - val_loss: 0.3468 - val_accuracy: 0.8406\n",
      "Epoch 81/100\n",
      "100/100 [==============================] - 26s 260ms/step - loss: 0.3662 - accuracy: 0.8372 - val_loss: 0.3966 - val_accuracy: 0.8075\n",
      "Epoch 82/100\n",
      "100/100 [==============================] - 26s 264ms/step - loss: 0.3609 - accuracy: 0.8400 - val_loss: 0.3527 - val_accuracy: 0.8444\n",
      "Epoch 83/100\n",
      "100/100 [==============================] - 26s 264ms/step - loss: 0.3764 - accuracy: 0.8316 - val_loss: 0.3458 - val_accuracy: 0.8656\n",
      "Epoch 84/100\n",
      "100/100 [==============================] - 26s 263ms/step - loss: 0.3670 - accuracy: 0.8384 - val_loss: 0.5128 - val_accuracy: 0.8531\n",
      "Epoch 85/100\n",
      "100/100 [==============================] - 26s 262ms/step - loss: 0.3520 - accuracy: 0.8503 - val_loss: 0.2635 - val_accuracy: 0.8981\n",
      "Epoch 86/100\n",
      "100/100 [==============================] - 26s 264ms/step - loss: 0.3485 - accuracy: 0.8472 - val_loss: 0.3730 - val_accuracy: 0.8363\n",
      "Epoch 87/100\n",
      "100/100 [==============================] - 26s 261ms/step - loss: 0.3535 - accuracy: 0.8450 - val_loss: 0.3596 - val_accuracy: 0.8556\n",
      "Epoch 88/100\n",
      "100/100 [==============================] - 27s 267ms/step - loss: 0.3631 - accuracy: 0.8438 - val_loss: 0.3126 - val_accuracy: 0.8731\n",
      "Epoch 89/100\n",
      "100/100 [==============================] - 26s 263ms/step - loss: 0.3609 - accuracy: 0.8428 - val_loss: 0.2373 - val_accuracy: 0.9131\n",
      "Epoch 90/100\n",
      "100/100 [==============================] - 26s 261ms/step - loss: 0.3461 - accuracy: 0.8434 - val_loss: 0.2704 - val_accuracy: 0.8944\n",
      "Epoch 91/100\n",
      "100/100 [==============================] - 27s 266ms/step - loss: 0.3655 - accuracy: 0.8347 - val_loss: 0.5984 - val_accuracy: 0.7931\n",
      "Epoch 92/100\n",
      "100/100 [==============================] - 27s 267ms/step - loss: 0.3522 - accuracy: 0.8509 - val_loss: 0.4673 - val_accuracy: 0.7950\n",
      "Epoch 93/100\n",
      "100/100 [==============================] - 27s 266ms/step - loss: 0.3637 - accuracy: 0.8394 - val_loss: 0.4319 - val_accuracy: 0.8000\n",
      "Epoch 94/100\n",
      "100/100 [==============================] - 27s 272ms/step - loss: 0.3395 - accuracy: 0.8491 - val_loss: 0.3739 - val_accuracy: 0.8581\n",
      "Epoch 95/100\n",
      "100/100 [==============================] - 27s 267ms/step - loss: 0.3487 - accuracy: 0.8472 - val_loss: 0.2896 - val_accuracy: 0.8956\n",
      "Epoch 96/100\n",
      "100/100 [==============================] - 27s 267ms/step - loss: 0.3540 - accuracy: 0.8409 - val_loss: 0.6774 - val_accuracy: 0.7688\n",
      "Epoch 97/100\n",
      "100/100 [==============================] - 27s 269ms/step - loss: 0.3515 - accuracy: 0.8509 - val_loss: 0.2262 - val_accuracy: 0.9144\n",
      "Epoch 98/100\n",
      "100/100 [==============================] - 27s 266ms/step - loss: 0.3534 - accuracy: 0.8475 - val_loss: 0.2556 - val_accuracy: 0.8919\n",
      "Epoch 99/100\n",
      "100/100 [==============================] - 27s 266ms/step - loss: 0.3610 - accuracy: 0.8391 - val_loss: 0.4562 - val_accuracy: 0.8200\n",
      "Epoch 100/100\n",
      "100/100 [==============================] - 27s 274ms/step - loss: 0.3460 - accuracy: 0.8478 - val_loss: 0.2769 - val_accuracy: 0.9044\n"
     ]
    }
   ],
   "source": [
    "history = model.fit_generator(train_generator,\n",
    "                             steps_per_epoch = 100,\n",
    "                             epochs = 100,\n",
    "                             validation_data = validation_generator,\n",
    "                             validation_steps = 50)"
   ]
  },
  {
   "cell_type": "code",
   "execution_count": 39,
   "metadata": {
    "scrolled": false
   },
   "outputs": [
    {
     "data": {
      "text/html": [
       "<div>\n",
       "<style scoped>\n",
       "    .dataframe tbody tr th:only-of-type {\n",
       "        vertical-align: middle;\n",
       "    }\n",
       "\n",
       "    .dataframe tbody tr th {\n",
       "        vertical-align: top;\n",
       "    }\n",
       "\n",
       "    .dataframe thead th {\n",
       "        text-align: right;\n",
       "    }\n",
       "</style>\n",
       "<table border=\"1\" class=\"dataframe\">\n",
       "  <thead>\n",
       "    <tr style=\"text-align: right;\">\n",
       "      <th></th>\n",
       "      <th>loss</th>\n",
       "      <th>accuracy</th>\n",
       "      <th>val_loss</th>\n",
       "      <th>val_accuracy</th>\n",
       "    </tr>\n",
       "  </thead>\n",
       "  <tbody>\n",
       "    <tr>\n",
       "      <td>0</td>\n",
       "      <td>1.034026</td>\n",
       "      <td>0.549375</td>\n",
       "      <td>1.792985</td>\n",
       "      <td>0.496250</td>\n",
       "    </tr>\n",
       "    <tr>\n",
       "      <td>1</td>\n",
       "      <td>0.849200</td>\n",
       "      <td>0.539375</td>\n",
       "      <td>1.012251</td>\n",
       "      <td>0.496250</td>\n",
       "    </tr>\n",
       "    <tr>\n",
       "      <td>2</td>\n",
       "      <td>0.759249</td>\n",
       "      <td>0.554062</td>\n",
       "      <td>0.706912</td>\n",
       "      <td>0.613125</td>\n",
       "    </tr>\n",
       "    <tr>\n",
       "      <td>3</td>\n",
       "      <td>0.729850</td>\n",
       "      <td>0.588750</td>\n",
       "      <td>0.693037</td>\n",
       "      <td>0.648125</td>\n",
       "    </tr>\n",
       "    <tr>\n",
       "      <td>4</td>\n",
       "      <td>0.692940</td>\n",
       "      <td>0.600937</td>\n",
       "      <td>0.660388</td>\n",
       "      <td>0.616250</td>\n",
       "    </tr>\n",
       "  </tbody>\n",
       "</table>\n",
       "</div>"
      ],
      "text/plain": [
       "       loss  accuracy  val_loss  val_accuracy\n",
       "0  1.034026  0.549375  1.792985      0.496250\n",
       "1  0.849200  0.539375  1.012251      0.496250\n",
       "2  0.759249  0.554062  0.706912      0.613125\n",
       "3  0.729850  0.588750  0.693037      0.648125\n",
       "4  0.692940  0.600937  0.660388      0.616250"
      ]
     },
     "execution_count": 39,
     "metadata": {},
     "output_type": "execute_result"
    }
   ],
   "source": [
    "df = pd.DataFrame(history.history) # creating a dataset of loss and accuracy\n",
    "df.head()"
   ]
  },
  {
   "cell_type": "code",
   "execution_count": 40,
   "metadata": {},
   "outputs": [
    {
     "data": {
      "image/png": "[encoded data removed]",
      "text/plain": [
       "<Figure size 432x288 with 1 Axes>"
      ]
     },
     "metadata": {
      "needs_background": "light"
     },
     "output_type": "display_data"
    }
   ],
   "source": [
    "#Plotting the loss curve\n",
    "\n",
    "loss = df[\"loss\"]\n",
    "val_loss = df[\"val_loss\"]\n",
    "\n",
    "epochs = range(1 , len(loss)+1)\n",
    "\n",
    "plt.plot(epochs , loss , 'b' , label = 'Training Loss')\n",
    "plt.plot(epochs , val_loss , 'bo' , label = 'Validation Loss')\n",
    "plt.legend()\n",
    "plt.show()"
   ]
  },
  {
   "cell_type": "code",
   "execution_count": 41,
   "metadata": {
    "scrolled": true
   },
   "outputs": [
    {
     "data": {
      "image/png": "[encoded data removed]",
      "text/plain": [
       "<Figure size 432x288 with 1 Axes>"
      ]
     },
     "metadata": {
      "needs_background": "light"
     },
     "output_type": "display_data"
    }
   ],
   "source": [
    "#Plotting the accuracy curve\n",
    "\n",
    "acc = df[\"accuracy\"]\n",
    "val_acc = df[\"val_accuracy\"]\n",
    "\n",
    "epochs = range(1 , len(loss)+1)\n",
    "\n",
    "plt.plot(epochs , acc , 'b' , label = 'Training Accuracy')\n",
    "plt.plot(epochs , val_acc , 'bo' , label = 'Validation Accuracy')\n",
    "plt.legend()\n",
    "plt.show()"
   ]
  },
  {
   "cell_type": "markdown",
   "metadata": {},
   "source": [
    "Boom. We achieved a validation accuracy of 90% and a training accuracy of 84%."
   ]
  }
 ],
 "metadata": {
  "kernelspec": {
   "display_name": "Python 3",
   "language": "python",
   "name": "python3"
  },
  "language_info": {
   "codemirror_mode": {
    "name": "ipython",
    "version": 3
   },
   "file_extension": ".py",
   "mimetype": "text/x-python",
   "name": "python",
   "nbconvert_exporter": "python",
   "pygments_lexer": "ipython3",
   "version": "3.7.4"
  }
 },
 "nbformat": 4,
 "nbformat_minor": 2
}
